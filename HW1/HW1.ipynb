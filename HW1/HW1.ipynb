{
 "cells": [
  {
   "cell_type": "code",
   "execution_count": 1,
   "metadata": {},
   "outputs": [
    {
     "name": "stdout",
     "output_type": "stream",
     "text": [
      "fatty\n",
      "fetal\n",
      "body\n",
      "sprague-dawley\n",
      "fatty\n",
      "daily\n",
      "pregnancy\n",
      "fetuses\n",
      "significantly\n",
      "body\n",
      "fetuses\n",
      "fatty\n",
      "fetal\n",
      "body\n",
      "abnormally\n",
      "fatty\n"
     ]
    }
   ],
   "source": [
    "import re\n",
    "with open('E:/file.txt') as f:\n",
    "    string = f.readlines()\n",
    "string = [s.strip()+' ' for s in string]\n",
    "string = ''.join(string)\n",
    "pattern = '^((?!te).)*((?=et).)((?!te).)*$|\\w*(.)*y$'\n",
    "for s in string.split(' '):\n",
    "    if not re.match(pattern,s) is None:\n",
    "        print(s)"
   ]
  },
  {
   "cell_type": "code",
   "execution_count": null,
   "metadata": {},
   "outputs": [],
   "source": []
  }
 ],
 "metadata": {
  "kernelspec": {
   "display_name": "Python 3",
   "language": "python",
   "name": "python3"
  },
  "language_info": {
   "codemirror_mode": {
    "name": "ipython",
    "version": 3
   },
   "file_extension": ".py",
   "mimetype": "text/x-python",
   "name": "python",
   "nbconvert_exporter": "python",
   "pygments_lexer": "ipython3",
   "version": "3.7.9"
  }
 },
 "nbformat": 4,
 "nbformat_minor": 4
}
